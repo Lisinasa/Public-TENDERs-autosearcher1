{
 "cells": [
  {
   "cell_type": "code",
   "execution_count": 85,
   "metadata": {},
   "outputs": [
    {
     "name": "stdout",
     "output_type": "stream",
     "text": [
      "Šviesiųjų naftos produktų pirkimas iš degalinių, esančių prie magistralinių kelių Vilnius-Kaunas-Klaipėda ir Vilnius-Panevėžys\n",
      "/Notice/Details/2018-688888\n",
      "\n",
      "\n",
      "\n",
      "https://pirkimai.eviesiejipirkimai.lt/app/rfq/publicpurchase_docs.asp?PID=437241\n",
      "Valstybinės reikšmės magistralinio kelio Nr. A1 Vilnius-Kaunas-Klaipėda ruožo nuo 100,47 iki 101,79 km rekonstravimas\n",
      "/Notice/Details/2019-673335\n",
      "Skubus šviesiųjų naftos produktų iš degalinių Vilnius-Kaunas-Klaipėda kelio priežiūrai pirkimas\n",
      "/Notice/Details/2019-637670\n",
      "\n",
      "\n",
      "\n",
      "https://pirkimai.eviesiejipirkimai.lt/app/rfq/publicpurchase_docs.asp?PID=437274\n",
      "Kelių priežiūros darbų techninės priežiūros paslaugos\n",
      "/Notice/Details/2018-661718\n",
      "Benzinas, dyzelinas iš degalinių\n",
      "/Notice/Details/2019-673580\n",
      "Kelio A1 39,110 km sankryžos, kelio Nr. 221 nuo 0,000 iki 0,295 km, kelio Nr. 4728 nuo 0,000 iki 0,344 km ir skirt. lygių sankryžos jung. kelių rekon. Techn. d. projekto parengimas, proj. vykd. p\n",
      "/Notice/Details/2019-607379\n",
      "Transporto priemonių degalų, automobilių priežiūros priemonių ir plovimo paslaugų pirkimas UAB \"EPSO-G\" įmonių grupei\n",
      "/Notice/Details/2018-635915\n",
      "Degalų pirkimas\n",
      "/Notice/Details/2019-680985\n"
     ]
    }
   ],
   "source": [
    "import requests\n",
    "r=requests.get(\"https://cvpp.eviesiejipirkimai.lt/?Query=vilnius%E2%80%93kaunas%E2%80%93klaip%C4%97da&OrderingType=0&OrderingDirection=0&TypeContractId=&ProcedureSearchTypeId=&NoticeType=&PublicationType=&SectorSearchTypeId=&IncludeExpired=false&Cpvs=&TenderId=&DeadlineFromDate=&DeadlineToDate=&PublishedFromDate=2018-04-01&PublishedToDate=\")\n",
    "from bs4 import BeautifulSoup\n",
    "soup = BeautifulSoup(r.content, 'html.parser')\n",
    "results= soup.find_all(\"div\", class_=\"notice-search-item-header\")\n",
    "for result in results:\n",
    "    result=result.find(\"a\")\n",
    "    print(result.text)\n",
    "    print(result['href'])\n",
    "   \n",
    "#searchForm > div:nth-child(1) > div.span9 > div > div.notice-search-result > div:nth-child(3) > div.notice-search-item-header > a:nth-child(3)"
   ]
  },
  {
   "cell_type": "code",
   "execution_count": 82,
   "metadata": {},
   "outputs": [
    {
     "name": "stdout",
     "output_type": "stream",
     "text": [
      "/Notice/Details/2019-680985\n"
     ]
    }
   ],
   "source": [
    " print(result['href'])"
   ]
  },
  {
   "cell_type": "code",
   "execution_count": null,
   "metadata": {},
   "outputs": [],
   "source": [
    "#searchForm > div:nth-child(1) > div.span9 > div > div.notice-search-result > div:nth-child(3) > div.notice-search-item-header > a:nth-child(3)"
   ]
  },
  {
   "cell_type": "code",
   "execution_count": null,
   "metadata": {},
   "outputs": [],
   "source": []
  }
 ],
 "metadata": {
  "kernelspec": {
   "display_name": "Python 3",
   "language": "python",
   "name": "python3"
  },
  "language_info": {
   "codemirror_mode": {
    "name": "ipython",
    "version": 3
   },
   "file_extension": ".py",
   "mimetype": "text/x-python",
   "name": "python",
   "nbconvert_exporter": "python",
   "pygments_lexer": "ipython3",
   "version": "3.7.3"
  }
 },
 "nbformat": 4,
 "nbformat_minor": 2
}
