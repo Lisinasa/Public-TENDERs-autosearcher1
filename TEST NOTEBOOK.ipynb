{
 "cells": [
  {
   "cell_type": "code",
   "execution_count": 3,
   "metadata": {
    "scrolled": true
   },
   "outputs": [
    {
     "ename": "ConnectionError",
     "evalue": "HTTPSConnectionPool(host='cvpp.eviesiejipirkimai.lt', port=443): Max retries exceeded with url: /?Query=vilnius%E2%80%93kaunas%E2%80%93klaip%C4%97da&OrderingType=0&OrderingDirection=0&TypeContractId=&ProcedureSearchTypeId=&NoticeType=&PublicationType=&SectorSearchTypeId=&IncludeExpired=false&Cpvs=&TenderId=&DeadlineFromDate=&DeadlineToDate=&PublishedFromDate=2018-04-01&PublishedToDate= (Caused by NewConnectionError('<urllib3.connection.VerifiedHTTPSConnection object at 0x05C31EB0>: Failed to establish a new connection: [Errno 11001] getaddrinfo failed'))",
     "output_type": "error",
     "traceback": [
      "\u001b[1;31m---------------------------------------------------------------------------\u001b[0m",
      "\u001b[1;31mgaierror\u001b[0m                                  Traceback (most recent call last)",
      "\u001b[1;32mc:\\users\\pc\\appdata\\local\\programs\\python\\python37-32\\lib\\site-packages\\urllib3\\connection.py\u001b[0m in \u001b[0;36m_new_conn\u001b[1;34m(self)\u001b[0m\n\u001b[0;32m    158\u001b[0m             conn = connection.create_connection(\n\u001b[1;32m--> 159\u001b[1;33m                 (self._dns_host, self.port), self.timeout, **extra_kw)\n\u001b[0m\u001b[0;32m    160\u001b[0m \u001b[1;33m\u001b[0m\u001b[0m\n",
      "\u001b[1;32mc:\\users\\pc\\appdata\\local\\programs\\python\\python37-32\\lib\\site-packages\\urllib3\\util\\connection.py\u001b[0m in \u001b[0;36mcreate_connection\u001b[1;34m(address, timeout, source_address, socket_options)\u001b[0m\n\u001b[0;32m     56\u001b[0m \u001b[1;33m\u001b[0m\u001b[0m\n\u001b[1;32m---> 57\u001b[1;33m     \u001b[1;32mfor\u001b[0m \u001b[0mres\u001b[0m \u001b[1;32min\u001b[0m \u001b[0msocket\u001b[0m\u001b[1;33m.\u001b[0m\u001b[0mgetaddrinfo\u001b[0m\u001b[1;33m(\u001b[0m\u001b[0mhost\u001b[0m\u001b[1;33m,\u001b[0m \u001b[0mport\u001b[0m\u001b[1;33m,\u001b[0m \u001b[0mfamily\u001b[0m\u001b[1;33m,\u001b[0m \u001b[0msocket\u001b[0m\u001b[1;33m.\u001b[0m\u001b[0mSOCK_STREAM\u001b[0m\u001b[1;33m)\u001b[0m\u001b[1;33m:\u001b[0m\u001b[1;33m\u001b[0m\u001b[1;33m\u001b[0m\u001b[0m\n\u001b[0m\u001b[0;32m     58\u001b[0m         \u001b[0maf\u001b[0m\u001b[1;33m,\u001b[0m \u001b[0msocktype\u001b[0m\u001b[1;33m,\u001b[0m \u001b[0mproto\u001b[0m\u001b[1;33m,\u001b[0m \u001b[0mcanonname\u001b[0m\u001b[1;33m,\u001b[0m \u001b[0msa\u001b[0m \u001b[1;33m=\u001b[0m \u001b[0mres\u001b[0m\u001b[1;33m\u001b[0m\u001b[1;33m\u001b[0m\u001b[0m\n",
      "\u001b[1;32mc:\\users\\pc\\appdata\\local\\programs\\python\\python37-32\\lib\\socket.py\u001b[0m in \u001b[0;36mgetaddrinfo\u001b[1;34m(host, port, family, type, proto, flags)\u001b[0m\n\u001b[0;32m    747\u001b[0m     \u001b[0maddrlist\u001b[0m \u001b[1;33m=\u001b[0m \u001b[1;33m[\u001b[0m\u001b[1;33m]\u001b[0m\u001b[1;33m\u001b[0m\u001b[1;33m\u001b[0m\u001b[0m\n\u001b[1;32m--> 748\u001b[1;33m     \u001b[1;32mfor\u001b[0m \u001b[0mres\u001b[0m \u001b[1;32min\u001b[0m \u001b[0m_socket\u001b[0m\u001b[1;33m.\u001b[0m\u001b[0mgetaddrinfo\u001b[0m\u001b[1;33m(\u001b[0m\u001b[0mhost\u001b[0m\u001b[1;33m,\u001b[0m \u001b[0mport\u001b[0m\u001b[1;33m,\u001b[0m \u001b[0mfamily\u001b[0m\u001b[1;33m,\u001b[0m \u001b[0mtype\u001b[0m\u001b[1;33m,\u001b[0m \u001b[0mproto\u001b[0m\u001b[1;33m,\u001b[0m \u001b[0mflags\u001b[0m\u001b[1;33m)\u001b[0m\u001b[1;33m:\u001b[0m\u001b[1;33m\u001b[0m\u001b[1;33m\u001b[0m\u001b[0m\n\u001b[0m\u001b[0;32m    749\u001b[0m         \u001b[0maf\u001b[0m\u001b[1;33m,\u001b[0m \u001b[0msocktype\u001b[0m\u001b[1;33m,\u001b[0m \u001b[0mproto\u001b[0m\u001b[1;33m,\u001b[0m \u001b[0mcanonname\u001b[0m\u001b[1;33m,\u001b[0m \u001b[0msa\u001b[0m \u001b[1;33m=\u001b[0m \u001b[0mres\u001b[0m\u001b[1;33m\u001b[0m\u001b[1;33m\u001b[0m\u001b[0m\n",
      "\u001b[1;31mgaierror\u001b[0m: [Errno 11001] getaddrinfo failed",
      "\nDuring handling of the above exception, another exception occurred:\n",
      "\u001b[1;31mNewConnectionError\u001b[0m                        Traceback (most recent call last)",
      "\u001b[1;32mc:\\users\\pc\\appdata\\local\\programs\\python\\python37-32\\lib\\site-packages\\urllib3\\connectionpool.py\u001b[0m in \u001b[0;36murlopen\u001b[1;34m(self, method, url, body, headers, retries, redirect, assert_same_host, timeout, pool_timeout, release_conn, chunked, body_pos, **response_kw)\u001b[0m\n\u001b[0;32m    599\u001b[0m                                                   \u001b[0mbody\u001b[0m\u001b[1;33m=\u001b[0m\u001b[0mbody\u001b[0m\u001b[1;33m,\u001b[0m \u001b[0mheaders\u001b[0m\u001b[1;33m=\u001b[0m\u001b[0mheaders\u001b[0m\u001b[1;33m,\u001b[0m\u001b[1;33m\u001b[0m\u001b[1;33m\u001b[0m\u001b[0m\n\u001b[1;32m--> 600\u001b[1;33m                                                   chunked=chunked)\n\u001b[0m\u001b[0;32m    601\u001b[0m \u001b[1;33m\u001b[0m\u001b[0m\n",
      "\u001b[1;32mc:\\users\\pc\\appdata\\local\\programs\\python\\python37-32\\lib\\site-packages\\urllib3\\connectionpool.py\u001b[0m in \u001b[0;36m_make_request\u001b[1;34m(self, conn, method, url, timeout, chunked, **httplib_request_kw)\u001b[0m\n\u001b[0;32m    342\u001b[0m         \u001b[1;32mtry\u001b[0m\u001b[1;33m:\u001b[0m\u001b[1;33m\u001b[0m\u001b[1;33m\u001b[0m\u001b[0m\n\u001b[1;32m--> 343\u001b[1;33m             \u001b[0mself\u001b[0m\u001b[1;33m.\u001b[0m\u001b[0m_validate_conn\u001b[0m\u001b[1;33m(\u001b[0m\u001b[0mconn\u001b[0m\u001b[1;33m)\u001b[0m\u001b[1;33m\u001b[0m\u001b[1;33m\u001b[0m\u001b[0m\n\u001b[0m\u001b[0;32m    344\u001b[0m         \u001b[1;32mexcept\u001b[0m \u001b[1;33m(\u001b[0m\u001b[0mSocketTimeout\u001b[0m\u001b[1;33m,\u001b[0m \u001b[0mBaseSSLError\u001b[0m\u001b[1;33m)\u001b[0m \u001b[1;32mas\u001b[0m \u001b[0me\u001b[0m\u001b[1;33m:\u001b[0m\u001b[1;33m\u001b[0m\u001b[1;33m\u001b[0m\u001b[0m\n",
      "\u001b[1;32mc:\\users\\pc\\appdata\\local\\programs\\python\\python37-32\\lib\\site-packages\\urllib3\\connectionpool.py\u001b[0m in \u001b[0;36m_validate_conn\u001b[1;34m(self, conn)\u001b[0m\n\u001b[0;32m    838\u001b[0m         \u001b[1;32mif\u001b[0m \u001b[1;32mnot\u001b[0m \u001b[0mgetattr\u001b[0m\u001b[1;33m(\u001b[0m\u001b[0mconn\u001b[0m\u001b[1;33m,\u001b[0m \u001b[1;34m'sock'\u001b[0m\u001b[1;33m,\u001b[0m \u001b[1;32mNone\u001b[0m\u001b[1;33m)\u001b[0m\u001b[1;33m:\u001b[0m  \u001b[1;31m# AppEngine might not have  `.sock`\u001b[0m\u001b[1;33m\u001b[0m\u001b[1;33m\u001b[0m\u001b[0m\n\u001b[1;32m--> 839\u001b[1;33m             \u001b[0mconn\u001b[0m\u001b[1;33m.\u001b[0m\u001b[0mconnect\u001b[0m\u001b[1;33m(\u001b[0m\u001b[1;33m)\u001b[0m\u001b[1;33m\u001b[0m\u001b[1;33m\u001b[0m\u001b[0m\n\u001b[0m\u001b[0;32m    840\u001b[0m \u001b[1;33m\u001b[0m\u001b[0m\n",
      "\u001b[1;32mc:\\users\\pc\\appdata\\local\\programs\\python\\python37-32\\lib\\site-packages\\urllib3\\connection.py\u001b[0m in \u001b[0;36mconnect\u001b[1;34m(self)\u001b[0m\n\u001b[0;32m    300\u001b[0m         \u001b[1;31m# Add certificate verification\u001b[0m\u001b[1;33m\u001b[0m\u001b[1;33m\u001b[0m\u001b[1;33m\u001b[0m\u001b[0m\n\u001b[1;32m--> 301\u001b[1;33m         \u001b[0mconn\u001b[0m \u001b[1;33m=\u001b[0m \u001b[0mself\u001b[0m\u001b[1;33m.\u001b[0m\u001b[0m_new_conn\u001b[0m\u001b[1;33m(\u001b[0m\u001b[1;33m)\u001b[0m\u001b[1;33m\u001b[0m\u001b[1;33m\u001b[0m\u001b[0m\n\u001b[0m\u001b[0;32m    302\u001b[0m         \u001b[0mhostname\u001b[0m \u001b[1;33m=\u001b[0m \u001b[0mself\u001b[0m\u001b[1;33m.\u001b[0m\u001b[0mhost\u001b[0m\u001b[1;33m\u001b[0m\u001b[1;33m\u001b[0m\u001b[0m\n",
      "\u001b[1;32mc:\\users\\pc\\appdata\\local\\programs\\python\\python37-32\\lib\\site-packages\\urllib3\\connection.py\u001b[0m in \u001b[0;36m_new_conn\u001b[1;34m(self)\u001b[0m\n\u001b[0;32m    167\u001b[0m             raise NewConnectionError(\n\u001b[1;32m--> 168\u001b[1;33m                 self, \"Failed to establish a new connection: %s\" % e)\n\u001b[0m\u001b[0;32m    169\u001b[0m \u001b[1;33m\u001b[0m\u001b[0m\n",
      "\u001b[1;31mNewConnectionError\u001b[0m: <urllib3.connection.VerifiedHTTPSConnection object at 0x05C31EB0>: Failed to establish a new connection: [Errno 11001] getaddrinfo failed",
      "\nDuring handling of the above exception, another exception occurred:\n",
      "\u001b[1;31mMaxRetryError\u001b[0m                             Traceback (most recent call last)",
      "\u001b[1;32mc:\\users\\pc\\appdata\\local\\programs\\python\\python37-32\\lib\\site-packages\\requests\\adapters.py\u001b[0m in \u001b[0;36msend\u001b[1;34m(self, request, stream, timeout, verify, cert, proxies)\u001b[0m\n\u001b[0;32m    448\u001b[0m                     \u001b[0mretries\u001b[0m\u001b[1;33m=\u001b[0m\u001b[0mself\u001b[0m\u001b[1;33m.\u001b[0m\u001b[0mmax_retries\u001b[0m\u001b[1;33m,\u001b[0m\u001b[1;33m\u001b[0m\u001b[1;33m\u001b[0m\u001b[0m\n\u001b[1;32m--> 449\u001b[1;33m                     \u001b[0mtimeout\u001b[0m\u001b[1;33m=\u001b[0m\u001b[0mtimeout\u001b[0m\u001b[1;33m\u001b[0m\u001b[1;33m\u001b[0m\u001b[0m\n\u001b[0m\u001b[0;32m    450\u001b[0m                 )\n",
      "\u001b[1;32mc:\\users\\pc\\appdata\\local\\programs\\python\\python37-32\\lib\\site-packages\\urllib3\\connectionpool.py\u001b[0m in \u001b[0;36murlopen\u001b[1;34m(self, method, url, body, headers, retries, redirect, assert_same_host, timeout, pool_timeout, release_conn, chunked, body_pos, **response_kw)\u001b[0m\n\u001b[0;32m    637\u001b[0m             retries = retries.increment(method, url, error=e, _pool=self,\n\u001b[1;32m--> 638\u001b[1;33m                                         _stacktrace=sys.exc_info()[2])\n\u001b[0m\u001b[0;32m    639\u001b[0m             \u001b[0mretries\u001b[0m\u001b[1;33m.\u001b[0m\u001b[0msleep\u001b[0m\u001b[1;33m(\u001b[0m\u001b[1;33m)\u001b[0m\u001b[1;33m\u001b[0m\u001b[1;33m\u001b[0m\u001b[0m\n",
      "\u001b[1;32mc:\\users\\pc\\appdata\\local\\programs\\python\\python37-32\\lib\\site-packages\\urllib3\\util\\retry.py\u001b[0m in \u001b[0;36mincrement\u001b[1;34m(self, method, url, response, error, _pool, _stacktrace)\u001b[0m\n\u001b[0;32m    398\u001b[0m         \u001b[1;32mif\u001b[0m \u001b[0mnew_retry\u001b[0m\u001b[1;33m.\u001b[0m\u001b[0mis_exhausted\u001b[0m\u001b[1;33m(\u001b[0m\u001b[1;33m)\u001b[0m\u001b[1;33m:\u001b[0m\u001b[1;33m\u001b[0m\u001b[1;33m\u001b[0m\u001b[0m\n\u001b[1;32m--> 399\u001b[1;33m             \u001b[1;32mraise\u001b[0m \u001b[0mMaxRetryError\u001b[0m\u001b[1;33m(\u001b[0m\u001b[0m_pool\u001b[0m\u001b[1;33m,\u001b[0m \u001b[0murl\u001b[0m\u001b[1;33m,\u001b[0m \u001b[0merror\u001b[0m \u001b[1;32mor\u001b[0m \u001b[0mResponseError\u001b[0m\u001b[1;33m(\u001b[0m\u001b[0mcause\u001b[0m\u001b[1;33m)\u001b[0m\u001b[1;33m)\u001b[0m\u001b[1;33m\u001b[0m\u001b[1;33m\u001b[0m\u001b[0m\n\u001b[0m\u001b[0;32m    400\u001b[0m \u001b[1;33m\u001b[0m\u001b[0m\n",
      "\u001b[1;31mMaxRetryError\u001b[0m: HTTPSConnectionPool(host='cvpp.eviesiejipirkimai.lt', port=443): Max retries exceeded with url: /?Query=vilnius%E2%80%93kaunas%E2%80%93klaip%C4%97da&OrderingType=0&OrderingDirection=0&TypeContractId=&ProcedureSearchTypeId=&NoticeType=&PublicationType=&SectorSearchTypeId=&IncludeExpired=false&Cpvs=&TenderId=&DeadlineFromDate=&DeadlineToDate=&PublishedFromDate=2018-04-01&PublishedToDate= (Caused by NewConnectionError('<urllib3.connection.VerifiedHTTPSConnection object at 0x05C31EB0>: Failed to establish a new connection: [Errno 11001] getaddrinfo failed'))",
      "\nDuring handling of the above exception, another exception occurred:\n",
      "\u001b[1;31mConnectionError\u001b[0m                           Traceback (most recent call last)",
      "\u001b[1;32m<ipython-input-3-ca6f2eff27be>\u001b[0m in \u001b[0;36m<module>\u001b[1;34m\u001b[0m\n\u001b[0;32m      1\u001b[0m \u001b[0mraktazodis\u001b[0m\u001b[1;33m=\u001b[0m\u001b[1;34m\"A1 Vilnius-Kaunas-Klaipėda ruožo nuo 10,000 iki 95,000 km rekonstravimas\"\u001b[0m\u001b[1;33m\u001b[0m\u001b[1;33m\u001b[0m\u001b[0m\n\u001b[0;32m      2\u001b[0m \u001b[1;32mimport\u001b[0m \u001b[0mrequests\u001b[0m\u001b[1;33m\u001b[0m\u001b[1;33m\u001b[0m\u001b[0m\n\u001b[1;32m----> 3\u001b[1;33m \u001b[0mr\u001b[0m\u001b[1;33m=\u001b[0m\u001b[0mrequests\u001b[0m\u001b[1;33m.\u001b[0m\u001b[0mget\u001b[0m\u001b[1;33m(\u001b[0m\u001b[1;34m\"https://cvpp.eviesiejipirkimai.lt/?Query=vilnius%E2%80%93kaunas%E2%80%93klaip%C4%97da&OrderingType=0&OrderingDirection=0&TypeContractId=&ProcedureSearchTypeId=&NoticeType=&PublicationType=&SectorSearchTypeId=&IncludeExpired=false&Cpvs=&TenderId=&DeadlineFromDate=&DeadlineToDate=&PublishedFromDate=2018-04-01&PublishedToDate=\"\u001b[0m\u001b[1;33m)\u001b[0m\u001b[1;33m\u001b[0m\u001b[1;33m\u001b[0m\u001b[0m\n\u001b[0m\u001b[0;32m      4\u001b[0m \u001b[1;32mfrom\u001b[0m \u001b[0mbs4\u001b[0m \u001b[1;32mimport\u001b[0m \u001b[0mBeautifulSoup\u001b[0m\u001b[1;33m\u001b[0m\u001b[1;33m\u001b[0m\u001b[0m\n\u001b[0;32m      5\u001b[0m \u001b[0msoup\u001b[0m \u001b[1;33m=\u001b[0m \u001b[0mBeautifulSoup\u001b[0m\u001b[1;33m(\u001b[0m\u001b[0mr\u001b[0m\u001b[1;33m.\u001b[0m\u001b[0mcontent\u001b[0m\u001b[1;33m,\u001b[0m \u001b[1;34m'html.parser'\u001b[0m\u001b[1;33m)\u001b[0m\u001b[1;33m\u001b[0m\u001b[1;33m\u001b[0m\u001b[0m\n",
      "\u001b[1;32mc:\\users\\pc\\appdata\\local\\programs\\python\\python37-32\\lib\\site-packages\\requests\\api.py\u001b[0m in \u001b[0;36mget\u001b[1;34m(url, params, **kwargs)\u001b[0m\n\u001b[0;32m     73\u001b[0m \u001b[1;33m\u001b[0m\u001b[0m\n\u001b[0;32m     74\u001b[0m     \u001b[0mkwargs\u001b[0m\u001b[1;33m.\u001b[0m\u001b[0msetdefault\u001b[0m\u001b[1;33m(\u001b[0m\u001b[1;34m'allow_redirects'\u001b[0m\u001b[1;33m,\u001b[0m \u001b[1;32mTrue\u001b[0m\u001b[1;33m)\u001b[0m\u001b[1;33m\u001b[0m\u001b[1;33m\u001b[0m\u001b[0m\n\u001b[1;32m---> 75\u001b[1;33m     \u001b[1;32mreturn\u001b[0m \u001b[0mrequest\u001b[0m\u001b[1;33m(\u001b[0m\u001b[1;34m'get'\u001b[0m\u001b[1;33m,\u001b[0m \u001b[0murl\u001b[0m\u001b[1;33m,\u001b[0m \u001b[0mparams\u001b[0m\u001b[1;33m=\u001b[0m\u001b[0mparams\u001b[0m\u001b[1;33m,\u001b[0m \u001b[1;33m**\u001b[0m\u001b[0mkwargs\u001b[0m\u001b[1;33m)\u001b[0m\u001b[1;33m\u001b[0m\u001b[1;33m\u001b[0m\u001b[0m\n\u001b[0m\u001b[0;32m     76\u001b[0m \u001b[1;33m\u001b[0m\u001b[0m\n\u001b[0;32m     77\u001b[0m \u001b[1;33m\u001b[0m\u001b[0m\n",
      "\u001b[1;32mc:\\users\\pc\\appdata\\local\\programs\\python\\python37-32\\lib\\site-packages\\requests\\api.py\u001b[0m in \u001b[0;36mrequest\u001b[1;34m(method, url, **kwargs)\u001b[0m\n\u001b[0;32m     58\u001b[0m     \u001b[1;31m# cases, and look like a memory leak in others.\u001b[0m\u001b[1;33m\u001b[0m\u001b[1;33m\u001b[0m\u001b[1;33m\u001b[0m\u001b[0m\n\u001b[0;32m     59\u001b[0m     \u001b[1;32mwith\u001b[0m \u001b[0msessions\u001b[0m\u001b[1;33m.\u001b[0m\u001b[0mSession\u001b[0m\u001b[1;33m(\u001b[0m\u001b[1;33m)\u001b[0m \u001b[1;32mas\u001b[0m \u001b[0msession\u001b[0m\u001b[1;33m:\u001b[0m\u001b[1;33m\u001b[0m\u001b[1;33m\u001b[0m\u001b[0m\n\u001b[1;32m---> 60\u001b[1;33m         \u001b[1;32mreturn\u001b[0m \u001b[0msession\u001b[0m\u001b[1;33m.\u001b[0m\u001b[0mrequest\u001b[0m\u001b[1;33m(\u001b[0m\u001b[0mmethod\u001b[0m\u001b[1;33m=\u001b[0m\u001b[0mmethod\u001b[0m\u001b[1;33m,\u001b[0m \u001b[0murl\u001b[0m\u001b[1;33m=\u001b[0m\u001b[0murl\u001b[0m\u001b[1;33m,\u001b[0m \u001b[1;33m**\u001b[0m\u001b[0mkwargs\u001b[0m\u001b[1;33m)\u001b[0m\u001b[1;33m\u001b[0m\u001b[1;33m\u001b[0m\u001b[0m\n\u001b[0m\u001b[0;32m     61\u001b[0m \u001b[1;33m\u001b[0m\u001b[0m\n\u001b[0;32m     62\u001b[0m \u001b[1;33m\u001b[0m\u001b[0m\n",
      "\u001b[1;32mc:\\users\\pc\\appdata\\local\\programs\\python\\python37-32\\lib\\site-packages\\requests\\sessions.py\u001b[0m in \u001b[0;36mrequest\u001b[1;34m(self, method, url, params, data, headers, cookies, files, auth, timeout, allow_redirects, proxies, hooks, stream, verify, cert, json)\u001b[0m\n\u001b[0;32m    531\u001b[0m         }\n\u001b[0;32m    532\u001b[0m         \u001b[0msend_kwargs\u001b[0m\u001b[1;33m.\u001b[0m\u001b[0mupdate\u001b[0m\u001b[1;33m(\u001b[0m\u001b[0msettings\u001b[0m\u001b[1;33m)\u001b[0m\u001b[1;33m\u001b[0m\u001b[1;33m\u001b[0m\u001b[0m\n\u001b[1;32m--> 533\u001b[1;33m         \u001b[0mresp\u001b[0m \u001b[1;33m=\u001b[0m \u001b[0mself\u001b[0m\u001b[1;33m.\u001b[0m\u001b[0msend\u001b[0m\u001b[1;33m(\u001b[0m\u001b[0mprep\u001b[0m\u001b[1;33m,\u001b[0m \u001b[1;33m**\u001b[0m\u001b[0msend_kwargs\u001b[0m\u001b[1;33m)\u001b[0m\u001b[1;33m\u001b[0m\u001b[1;33m\u001b[0m\u001b[0m\n\u001b[0m\u001b[0;32m    534\u001b[0m \u001b[1;33m\u001b[0m\u001b[0m\n\u001b[0;32m    535\u001b[0m         \u001b[1;32mreturn\u001b[0m \u001b[0mresp\u001b[0m\u001b[1;33m\u001b[0m\u001b[1;33m\u001b[0m\u001b[0m\n",
      "\u001b[1;32mc:\\users\\pc\\appdata\\local\\programs\\python\\python37-32\\lib\\site-packages\\requests\\sessions.py\u001b[0m in \u001b[0;36msend\u001b[1;34m(self, request, **kwargs)\u001b[0m\n\u001b[0;32m    644\u001b[0m \u001b[1;33m\u001b[0m\u001b[0m\n\u001b[0;32m    645\u001b[0m         \u001b[1;31m# Send the request\u001b[0m\u001b[1;33m\u001b[0m\u001b[1;33m\u001b[0m\u001b[1;33m\u001b[0m\u001b[0m\n\u001b[1;32m--> 646\u001b[1;33m         \u001b[0mr\u001b[0m \u001b[1;33m=\u001b[0m \u001b[0madapter\u001b[0m\u001b[1;33m.\u001b[0m\u001b[0msend\u001b[0m\u001b[1;33m(\u001b[0m\u001b[0mrequest\u001b[0m\u001b[1;33m,\u001b[0m \u001b[1;33m**\u001b[0m\u001b[0mkwargs\u001b[0m\u001b[1;33m)\u001b[0m\u001b[1;33m\u001b[0m\u001b[1;33m\u001b[0m\u001b[0m\n\u001b[0m\u001b[0;32m    647\u001b[0m \u001b[1;33m\u001b[0m\u001b[0m\n\u001b[0;32m    648\u001b[0m         \u001b[1;31m# Total elapsed time of the request (approximately)\u001b[0m\u001b[1;33m\u001b[0m\u001b[1;33m\u001b[0m\u001b[1;33m\u001b[0m\u001b[0m\n",
      "\u001b[1;32mc:\\users\\pc\\appdata\\local\\programs\\python\\python37-32\\lib\\site-packages\\requests\\adapters.py\u001b[0m in \u001b[0;36msend\u001b[1;34m(self, request, stream, timeout, verify, cert, proxies)\u001b[0m\n\u001b[0;32m    514\u001b[0m                 \u001b[1;32mraise\u001b[0m \u001b[0mSSLError\u001b[0m\u001b[1;33m(\u001b[0m\u001b[0me\u001b[0m\u001b[1;33m,\u001b[0m \u001b[0mrequest\u001b[0m\u001b[1;33m=\u001b[0m\u001b[0mrequest\u001b[0m\u001b[1;33m)\u001b[0m\u001b[1;33m\u001b[0m\u001b[1;33m\u001b[0m\u001b[0m\n\u001b[0;32m    515\u001b[0m \u001b[1;33m\u001b[0m\u001b[0m\n\u001b[1;32m--> 516\u001b[1;33m             \u001b[1;32mraise\u001b[0m \u001b[0mConnectionError\u001b[0m\u001b[1;33m(\u001b[0m\u001b[0me\u001b[0m\u001b[1;33m,\u001b[0m \u001b[0mrequest\u001b[0m\u001b[1;33m=\u001b[0m\u001b[0mrequest\u001b[0m\u001b[1;33m)\u001b[0m\u001b[1;33m\u001b[0m\u001b[1;33m\u001b[0m\u001b[0m\n\u001b[0m\u001b[0;32m    517\u001b[0m \u001b[1;33m\u001b[0m\u001b[0m\n\u001b[0;32m    518\u001b[0m         \u001b[1;32mexcept\u001b[0m \u001b[0mClosedPoolError\u001b[0m \u001b[1;32mas\u001b[0m \u001b[0me\u001b[0m\u001b[1;33m:\u001b[0m\u001b[1;33m\u001b[0m\u001b[1;33m\u001b[0m\u001b[0m\n",
      "\u001b[1;31mConnectionError\u001b[0m: HTTPSConnectionPool(host='cvpp.eviesiejipirkimai.lt', port=443): Max retries exceeded with url: /?Query=vilnius%E2%80%93kaunas%E2%80%93klaip%C4%97da&OrderingType=0&OrderingDirection=0&TypeContractId=&ProcedureSearchTypeId=&NoticeType=&PublicationType=&SectorSearchTypeId=&IncludeExpired=false&Cpvs=&TenderId=&DeadlineFromDate=&DeadlineToDate=&PublishedFromDate=2018-04-01&PublishedToDate= (Caused by NewConnectionError('<urllib3.connection.VerifiedHTTPSConnection object at 0x05C31EB0>: Failed to establish a new connection: [Errno 11001] getaddrinfo failed'))"
     ]
    }
   ],
   "source": [
    "raktazodis=\"A1 Vilnius-Kaunas-Klaipėda ruožo nuo 10,000 iki 95,000 km rekonstravimas\"\n",
    "import requests\n",
    "r=requests.get(\"https://cvpp.eviesiejipirkimai.lt/?Query=vilnius%E2%80%93kaunas%E2%80%93klaip%C4%97da&OrderingType=0&OrderingDirection=0&TypeContractId=&ProcedureSearchTypeId=&NoticeType=&PublicationType=&SectorSearchTypeId=&IncludeExpired=false&Cpvs=&TenderId=&DeadlineFromDate=&DeadlineToDate=&PublishedFromDate=2018-04-01&PublishedToDate=\")\n",
    "from bs4 import BeautifulSoup\n",
    "soup = BeautifulSoup(r.content, 'html.parser')\n",
    "results= soup.find_all(\"div\", class_='notice-search-item-header')\n",
    "for result in results:\n",
    "    result=result.find_all(\"a\", href=True)\n",
    "    if len(result) == 2:\n",
    "        elementas = result[1]\n",
    "    elif len(result)==1:\n",
    "        elementas = result[0]\n",
    "        print(elementas)\n",
    "#         print(elementas.text)\n",
    "#         print(elementas['href'])\n",
    "#         print('\\n')\n",
    "    pavadinimas=elementas.text\n",
    "    adresas=elementas[\"href\"]\n",
    "    if raktazodis in pavadinimas:\n",
    "        raktazodis.elementas[\"href\"]\n",
    "    \n",
    "        #return elementas['href']\n",
    "        #print(\"Rastas projektas pagal raktazodi\")\n",
    "        #print(elementas.text)\n",
    "        #print(elementas[\"href\"])\n",
    "    import requests\n",
    "    r=requests.get(\"https://cvpp.eviesiejipirkimai.lt/Notice/Details/2018-654949\")\n",
    "    from bs4 import BeautifulSoup \n",
    "    soup = BeautifulSoup(r.content, 'html.parser')\n",
    "    results=soup.find_all(\"var\", class_=\"details-view-action-box\") \n",
    "    result=soup.find_all(\"a\", href=True)\n",
    "    print(result)\n",
    "        \n",
    "#https://cvpp.eviesiejipirkimai.lt/Notice/Details/2018-654949\n",
    "    \n",
    "#searchForm > div:nth-child(1) > div.span9 > div > div.notice-search-result > div:nth-child(3) > div.notice-search-item-header > a:nth-child(3)"
   ]
  },
  {
   "cell_type": "markdown",
   "metadata": {},
   "source": [
    "import  requests\n",
    "document_place=requests.get(\"https://pirkimai.eviesiejipirkimai.lt/app/rfq/publicpurchase_docs.asp?PID=437241\")\n",
    "from bs4 import BeautifulSoup\n",
    "soup = BeautifulSoup(document_place.content, 'html.parser')\n",
    "results_documents=soup.find_all(\"div\", class_=\"main-content-box\")\n",
    "print(results_documents)"
   ]
  },
  {
   "cell_type": "code",
   "execution_count": 6,
   "metadata": {
    "scrolled": true
   },
   "outputs": [
    {
     "name": "stdout",
     "output_type": "stream",
     "text": [
      "[<a href=\"javascript:DownloadPublicDocument('11396423','sDoc_11396423','531818');\">2018 01 09  IV tomas. DKZ A1 GVIS.docx</a>, <a href=\"javascript:DownloadPublicDocument('11396480','sDoc_11396480','531818');\">2019 01 14 pranešimas.pdf</a>, <a href=\"javascript:DownloadPublicDocument('11407172','sDoc_11407172','531818');\">2019 01 16.pdf</a>, <a href=\"javascript:DownloadPublicDocument('11565628','sDoc_11565628','531818');\">2019 02 25  IV tomas. DKZ A1 GVIS.docx</a>, <a href=\"javascript:DownloadPublicDocument('11533498','sDoc_11533498','531818');\">2019 02 25 antrasis pranešimas.pdf</a>, <a href=\"javascript:DownloadPublicDocument('11533496','sDoc_11533496','531818');\">2019 02 25 pirmasis pranešimas.pdf</a>, <a href=\"javascript:DownloadPublicDocument('11565629','sDoc_11565629','531818');\">2019 02 25 TS GVIS  IS.docx</a>, <a href=\"javascript:DownloadPublicDocument('11565630','sDoc_11565630','531818');\">2019 03 05 pranesimas.zip</a>, <a href=\"javascript:DownloadPublicDocument('11577955','sDoc_11577955','531818');\">2019 03 08 PRANEŠIMAS.zip</a>, <a href=\"javascript:DownloadPublicDocument('11758088','sDoc_11758088','531818');\">2019 04 24 ANTRASIS PRANEŠIMAS.pdf</a>, <a href=\"javascript:DownloadPublicDocument('11757931','sDoc_11757931','531818');\">2019 04 24 PRANESIMAS.zip</a>, <a href=\"javascript:DownloadPublicDocument('11774099','sDoc_11774099','531818');\">2019 04 29 pranešimas.pdf</a>, <a href=\"javascript:DownloadPublicDocument('11789464','sDoc_11789464','531818');\">2019 05 02  IV tomas. DKZ A1 GVIS.docx</a>, <a href=\"javascript:DownloadPublicDocument('11789471','sDoc_11789471','531818');\">2019 05 02 GVIS technine specifikacija.docx</a>, <a href=\"javascript:DownloadPublicDocument('11795441','sDoc_11795441','531818');\">2019 05 03 pranešimas Nr (11.7) 2-2423.zip</a>, <a href=\"javascript:DownloadPublicDocument('11789481','sDoc_11789481','531818');\">2019 05 03 pranešimas Nr (11.7) 2-2429.zip</a>, <a href=\"javascript:DownloadPublicDocument('11795433','sDoc_11795433','531818');\">2019 05 03 pranešimas Nr. (11.7) 2-2422.zip</a>, <a href=\"javascript:DownloadPublicDocument('11864536','sDoc_11864536','531818');\">2019 05 22 tiekejams del pirkimo dokumentų.pdf</a>, <a href=\"javascript:DownloadPublicDocument('11742286','sDoc_11742286','531818');\">2019-04-18 pranešimas.zip</a>, <a href=\"javascript:DownloadPublicDocument('11741101','sDoc_11741101','531818');\">4.4_IV tomas DKZ_Kaisiadoriu raj 2019 04 09.docx</a>, <a href=\"javascript:DownloadPublicDocument('11361489','sDoc_11361489','531818');\">DZK 2018 12 28.zip</a>, <a href=\"javascript:DownloadPublicDocument('11757907','sDoc_11757907','531818');\">DZK I-V DALYS  2019 04 19.zip</a>, <a href=\"javascript:DownloadPublicDocument('11795162','sDoc_11795162','531818');\">DZK I-V dalys 2019 04 30.zip</a>, <a href=\"javascript:DownloadPublicDocument('11369502','sDoc_11369502','531818');\">I dalis . Tech. Proj..zip</a>, <a href=\"javascript:DownloadPublicDocument('11369403','sDoc_11369403','531818');\">I dalis. III tomas.zip</a>, <a href=\"javascript:DownloadPublicDocument('11396477','sDoc_11396477','531818');\">I tomas  viršelis.doc</a>, <a href=\"javascript:DownloadPublicDocument('11361318','sDoc_11361318','531818');\">I tomas 2018 12 28.docx</a>, <a href=\"javascript:DownloadPublicDocument('11369427','sDoc_11369427','531818');\">II DALIS. III TOMAS.zip</a>, <a href=\"javascript:DownloadPublicDocument('11369517','sDoc_11369517','531818');\">II dalis. Tech. Proj.zip</a>, <a href=\"javascript:DownloadPublicDocument('11396441','sDoc_11396441','531818');\">II TOMAS I II III IV V dalys. 2019 01 09.doc</a>, <a href=\"javascript:DownloadPublicDocument('11361319','sDoc_11361319','531818');\">II TOMAS I II III IV V dalys.doc</a>, <a href=\"javascript:DownloadPublicDocument('11361320','sDoc_11361320','531818');\">II tomas VI pirkimo daliai.docx</a>, <a href=\"javascript:DownloadPublicDocument('11369441','sDoc_11369441','531818');\">III DALIS III tomas.zip</a>, <a href=\"javascript:DownloadPublicDocument('11369541','sDoc_11369541','531818');\">III dalis. Tech. Proj.zip</a>, <a href=\"javascript:DownloadPublicDocument('11369609','sDoc_11369609','531818');\">III tomas. suvestine.docx</a>, <a href=\"javascript:DownloadPublicDocument('11369614','sDoc_11369614','531818');\">III tomas.TS Bendroji  (visu daliu).docx</a>, <a href=\"javascript:DownloadPublicDocument('11369451','sDoc_11369451','531818');\">IV dalis. III tomas.zip</a>, <a href=\"javascript:DownloadPublicDocument('11369571','sDoc_11369571','531818');\">IV dalis. Tech. Proj.zip</a>, <a href=\"javascript:DownloadPublicDocument('11369664','sDoc_11369664','531818');\">PIRKIMO DOK. I TOMO 4 priedas espd-request.zip</a>, <a href=\"javascript:DownloadPublicDocument('11369645','sDoc_11369645','531818');\">Pirkimo dokumentų I tomo 14 priedas.xlsx</a>, <a href=\"javascript:DownloadPublicDocument('11361322','sDoc_11361322','531818');\">sutartis I  II III IV V DALIS.docx</a>, <a href=\"javascript:DownloadPublicDocument('11472177','sDoc_11472177','531818');\">sutartis VI pirkimo daliai 2018 12 31.docx</a>, <a href=\"javascript:DownloadPublicDocument('11730323','sDoc_11730323','531818');\">tiekėjams dėl pretenzijos 2019 04 16.pdf</a>, <a href=\"javascript:DownloadPublicDocument('11369455','sDoc_11369455','531818');\">V dalis. III tomas. Susisiekimas.docx</a>, <a href=\"javascript:DownloadPublicDocument('11369582','sDoc_11369582','531818');\">V dalis. Tech. Proj.zip</a>, <a href=\"javascript:DownloadPublicDocument('11369494','sDoc_11369494','531818');\">VI dalis . Tech. Proj.zip</a>, <a href=\"javascript:DownloadPublicDocument('11369388','sDoc_11369388','531818');\">VI dalis. III tomas.zip</a>, <a class=\"btn button-action-bar\" href=\"javascript:window.close();\">Close window</a>]\n"
     ]
    }
   ],
   "source": [
    "import requests\n",
    "r=requests.get(\"https://pirkimai.eviesiejipirkimai.lt/app/rfq/publicpurchase_docs.asp?PID=437241\")\n",
    "from bs4 import BeautifulSoup \n",
    "soup = BeautifulSoup(r.content, 'html.parser')\n",
    "results=soup.find_all(\"var\", class_=\"details-view-action-box\") \n",
    "result=soup.find_all(\"a\", href=True)\n",
    "#for result in results:\n",
    "    #result=next_results.find_all(\"a\", href=True)\n",
    "   # if len(result) == 2:\n",
    "      #  elementas= result[1]\n",
    "    #elif len(result)==1:\n",
    "        #print(elementas)\n",
    "\n",
    "print(result)\n",
    "##print(\"\\n\")\n",
    "#for result in results:    \n",
    "    #if len(result) == 2:\n",
    "        # print(elementas)\n",
    "\n",
    "\n",
    "#print(result)\n",
    "#print(soup.find_all(\"a\", href=True))\n",
    "#print(soup.text)\n",
    "#print(\"\\n\")\n",
    "#print()\n",
    "#for result in next_results:\n",
    "    #result=next_results.find_all(\"a\", href=True)\n",
    "    #if len(result) == 2:\n",
    "    #    elementas= result[1]\n",
    "   # elif len(result)==1:\n",
    "   ##     print(elementas)\n",
    "#for resut_doc in results_documents:\n",
    "   # resut_doc=results_documents.find_all(\"script\", href=True)\n",
    "    # print(results_documents.find_all)"
   ]
  },
  {
   "cell_type": "code",
   "execution_count": null,
   "metadata": {},
   "outputs": [],
   "source": [
    "Pirkimo dokumetai - Dalis 531818:1 - I PIRKIMO DALIS"
   ]
  },
  {
   "cell_type": "code",
   "execution_count": null,
   "metadata": {},
   "outputs": [],
   "source": [
    "for resut_doc in results_documents:\n",
    "    resut_doc=results_documents.find_all(\"script\", href=True)\n",
    "    print(results_documents.find_all)"
   ]
  },
  {
   "cell_type": "code",
   "execution_count": null,
   "metadata": {},
   "outputs": [],
   "source": []
  },
  {
   "cell_type": "code",
   "execution_count": null,
   "metadata": {},
   "outputs": [],
   "source": [
    "    if len(result) == 2:\n",
    "        elementas = result[1]\n",
    "    elif len(result)==1:\n",
    "        elementas = result[0]\n",
    "        print(elementas)\n",
    "        print(elementas.text)\n",
    "        print(elementas['href'])\n",
    "        print('\\n')\n"
   ]
  },
  {
   "cell_type": "code",
   "execution_count": null,
   "metadata": {},
   "outputs": [],
   "source": [
    "body > div.main-content-box"
   ]
  },
  {
   "cell_type": "code",
   "execution_count": 6,
   "metadata": {},
   "outputs": [],
   "source": [
    "import requests\n",
    "r=requests.get(\"https://pirkimai.eviesiejipirkimai.lt/app/rfq/publicpurchase_docs.asp?PID=437241\")\n",
    "from bs4 import BeautifulSoup\n",
    "soup = BeautifulSoup(r.content, 'html.parser')\n",
    "results= soup.find_all(\"div\", class_='notice-search-item-header')\n",
    "for result in results:\n",
    "    result=result.find_all(\"a\", href=True)\n",
    "    print(result.find_all)\n",
    "#results_documents=soup.find_all(\"div\", class_=\"details-view-action-box\") \n",
    "#print(soup.find_all)"
   ]
  },
  {
   "cell_type": "code",
   "execution_count": null,
   "metadata": {},
   "outputs": [],
   "source": []
  },
  {
   "cell_type": "code",
   "execution_count": null,
   "metadata": {},
   "outputs": [],
   "source": []
  },
  {
   "cell_type": "code",
   "execution_count": null,
   "metadata": {},
   "outputs": [],
   "source": []
  },
  {
   "cell_type": "code",
   "execution_count": null,
   "metadata": {},
   "outputs": [],
   "source": []
  },
  {
   "cell_type": "code",
   "execution_count": null,
   "metadata": {},
   "outputs": [],
   "source": []
  },
  {
   "cell_type": "code",
   "execution_count": null,
   "metadata": {},
   "outputs": [],
   "source": []
  },
  {
   "cell_type": "code",
   "execution_count": null,
   "metadata": {},
   "outputs": [],
   "source": []
  },
  {
   "cell_type": "code",
   "execution_count": null,
   "metadata": {},
   "outputs": [],
   "source": []
  },
  {
   "cell_type": "code",
   "execution_count": null,
   "metadata": {},
   "outputs": [],
   "source": []
  }
 ],
 "metadata": {
  "kernelspec": {
   "display_name": "Python 3",
   "language": "python",
   "name": "python3"
  },
  "language_info": {
   "codemirror_mode": {
    "name": "ipython",
    "version": 3
   },
   "file_extension": ".py",
   "mimetype": "text/x-python",
   "name": "python",
   "nbconvert_exporter": "python",
   "pygments_lexer": "ipython3",
   "version": "3.7.3"
  }
 },
 "nbformat": 4,
 "nbformat_minor": 2
}
