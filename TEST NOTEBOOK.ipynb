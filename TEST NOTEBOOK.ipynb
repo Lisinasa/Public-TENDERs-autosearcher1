{
 "cells": [
  {
   "cell_type": "code",
   "execution_count": 35,
   "metadata": {
    "scrolled": true
   },
   "outputs": [
    {
     "name": "stdout",
     "output_type": "stream",
     "text": [
      "Rastas projektas pagal raktazodi\n",
      "Valstybinės reikšmės magistralinio kelio A1 Vilnius-Kaunas-Klaipėda ruožo nuo 10,000 iki 95,000 km rekonstravimas (saugaus eismo priemonių įrengimas)\n",
      "/Notice/Details/2018-654949\n",
      "https://cvpp.eviesiejipirkimai.lt/Notice/Details/2018-654949\n"
     ]
    },
    {
     "ename": "NameError",
     "evalue": "name 'element' is not defined",
     "output_type": "error",
     "traceback": [
      "\u001b[1;31m---------------------------------------------------------------------------\u001b[0m",
      "\u001b[1;31mNameError\u001b[0m                                 Traceback (most recent call last)",
      "\u001b[1;32m<ipython-input-35-f7844df391fe>\u001b[0m in \u001b[0;36m<module>\u001b[1;34m\u001b[0m\n\u001b[0;32m     38\u001b[0m     \u001b[1;32melif\u001b[0m \u001b[0mlen\u001b[0m\u001b[1;33m(\u001b[0m\u001b[0mdocuments\u001b[0m\u001b[1;33m)\u001b[0m\u001b[1;33m==\u001b[0m\u001b[1;36m1\u001b[0m\u001b[1;33m:\u001b[0m\u001b[1;33m\u001b[0m\u001b[1;33m\u001b[0m\u001b[0m\n\u001b[0;32m     39\u001b[0m         \u001b[0melement\u001b[0m \u001b[1;33m=\u001b[0m \u001b[0mresult\u001b[0m\u001b[1;33m[\u001b[0m\u001b[1;36m0\u001b[0m\u001b[1;33m]\u001b[0m\u001b[1;33m\u001b[0m\u001b[1;33m\u001b[0m\u001b[0m\n\u001b[1;32m---> 40\u001b[1;33m     \u001b[0mgrafa\u001b[0m\u001b[1;33m=\u001b[0m\u001b[0melement\u001b[0m\u001b[1;33m.\u001b[0m\u001b[0mtext\u001b[0m\u001b[1;33m\u001b[0m\u001b[1;33m\u001b[0m\u001b[0m\n\u001b[0m\u001b[0;32m     41\u001b[0m     \u001b[0mgraf_adresas\u001b[0m\u001b[1;33m=\u001b[0m\u001b[0melement\u001b[0m\u001b[1;33m[\u001b[0m\u001b[1;34m\"href\"\u001b[0m\u001b[1;33m]\u001b[0m\u001b[1;33m\u001b[0m\u001b[1;33m\u001b[0m\u001b[0m\n\u001b[0;32m     42\u001b[0m     \u001b[0mprint\u001b[0m\u001b[1;33m(\u001b[0m\u001b[0melement\u001b[0m\u001b[1;33m.\u001b[0m\u001b[0mtext\u001b[0m\u001b[1;33m)\u001b[0m\u001b[1;33m\u001b[0m\u001b[1;33m\u001b[0m\u001b[0m\n",
      "\u001b[1;31mNameError\u001b[0m: name 'element' is not defined"
     ]
    }
   ],
   "source": [
    "puslapis=\"https://cvpp.eviesiejipirkimai.lt\"\n",
    "raktazodis=\"A1 Vilnius-Kaunas-Klaipėda ruožo nuo 10,000 iki 95,000 km rekonstravimas\"\n",
    "dok_saugykla=\"Peržiūrėti išorinius dokumentus\"\n",
    "import requests\n",
    "r=requests.get(\"https://cvpp.eviesiejipirkimai.lt/?Query=vilnius%E2%80%93kaunas%E2%80%93klaip%C4%97da&OrderingType=0&OrderingDirection=0&TypeContractId=&ProcedureSearchTypeId=&NoticeType=&PublicationType=&SectorSearchTypeId=&IncludeExpired=false&Cpvs=&TenderId=&DeadlineFromDate=&DeadlineToDate=&PublishedFromDate=2018-04-01&PublishedToDate=\")\n",
    "from bs4 import BeautifulSoup\n",
    "soup = BeautifulSoup(r.content, 'html.parser')\n",
    "results= soup.find_all(\"div\", class_='notice-search-item-header')\n",
    "for result in results:\n",
    "    result=result.find_all(\"a\", href=True)\n",
    "    if len(result) == 2:\n",
    "        elementas = result[1]\n",
    "    elif len(result)==1:\n",
    "        elementas = result[0]\n",
    "        #return(elementas)\n",
    "#         print(elementas.text)\n",
    "#         print(elementas['href'])\n",
    "#         print('\\n')\n",
    "    pavadinimas=elementas.text\n",
    "    adresas=elementas[\"href\"]\n",
    "    if raktazodis in pavadinimas:\n",
    "        print(\"Rastas projektas pagal raktazodi\")\n",
    "        print(elementas.text)\n",
    "        print(elementas[\"href\"])\n",
    "        projektas=puslapis+adresas\n",
    "        print(projektas)\n",
    "projekto=requests.get(projektas)\n",
    "soup = BeautifulSoup(projekto.content, 'html.parser')\n",
    "page=soup.find_all(\"div\", class_=\"details-view-action-box\") \n",
    "documents=soup.find_all(\"a\", href=True)\n",
    "#print(documents)\n",
    "#if dok_saugykla in documents:\n",
    "    #print (dokuments)\n",
    "for documents in page:\n",
    "    if len(documents) == 2:\n",
    "        element = result[1]\n",
    "    #print(element)\n",
    "    elif len(documents)==1:\n",
    "        element = result[0]\n",
    "    grafa=element.text\n",
    "    graf_adresas=element[\"href\"]\n",
    "    print(element.text)\n",
    "      #  print(element['href'])\n",
    "      #  print('\\n')\n",
    "#https://cvpp.eviesiejipirkimai.lt/Notice/Details/2018-654949\n",
    "    \n",
    "#searchForm > div:nth-child(1) > div.span9 > div > div.notice-search-result > div:nth-child(3) > div.notice-search-item-header > a:nth-child(3)"
   ]
  },
  {
   "cell_type": "markdown",
   "metadata": {},
   "source": [
    "import  requests\n",
    "document_place=requests.get(\"https://pirkimai.eviesiejipirkimai.lt/app/rfq/publicpurchase_docs.asp?PID=437241\")\n",
    "from bs4 import BeautifulSoup\n",
    "soup = BeautifulSoup(document_place.content, 'html.parser')\n",
    "results_documents=soup.find_all(\"div\", class_=\"main-content-box\")\n",
    "print(results_documents)"
   ]
  },
  {
   "cell_type": "code",
   "execution_count": 28,
   "metadata": {
    "scrolled": true
   },
   "outputs": [
    {
     "name": "stdout",
     "output_type": "stream",
     "text": [
      "[<a href=\"javascript:DownloadPublicDocument('11396423','sDoc_11396423','531818');\">2018 01 09  IV tomas. DKZ A1 GVIS.docx</a>, <a href=\"javascript:DownloadPublicDocument('11396480','sDoc_11396480','531818');\">2019 01 14 pranešimas.pdf</a>, <a href=\"javascript:DownloadPublicDocument('11407172','sDoc_11407172','531818');\">2019 01 16.pdf</a>, <a href=\"javascript:DownloadPublicDocument('11565628','sDoc_11565628','531818');\">2019 02 25  IV tomas. DKZ A1 GVIS.docx</a>, <a href=\"javascript:DownloadPublicDocument('11533498','sDoc_11533498','531818');\">2019 02 25 antrasis pranešimas.pdf</a>, <a href=\"javascript:DownloadPublicDocument('11533496','sDoc_11533496','531818');\">2019 02 25 pirmasis pranešimas.pdf</a>, <a href=\"javascript:DownloadPublicDocument('11565629','sDoc_11565629','531818');\">2019 02 25 TS GVIS  IS.docx</a>, <a href=\"javascript:DownloadPublicDocument('11565630','sDoc_11565630','531818');\">2019 03 05 pranesimas.zip</a>, <a href=\"javascript:DownloadPublicDocument('11577955','sDoc_11577955','531818');\">2019 03 08 PRANEŠIMAS.zip</a>, <a href=\"javascript:DownloadPublicDocument('11758088','sDoc_11758088','531818');\">2019 04 24 ANTRASIS PRANEŠIMAS.pdf</a>, <a href=\"javascript:DownloadPublicDocument('11757931','sDoc_11757931','531818');\">2019 04 24 PRANESIMAS.zip</a>, <a href=\"javascript:DownloadPublicDocument('11774099','sDoc_11774099','531818');\">2019 04 29 pranešimas.pdf</a>, <a href=\"javascript:DownloadPublicDocument('11789464','sDoc_11789464','531818');\">2019 05 02  IV tomas. DKZ A1 GVIS.docx</a>, <a href=\"javascript:DownloadPublicDocument('11789471','sDoc_11789471','531818');\">2019 05 02 GVIS technine specifikacija.docx</a>, <a href=\"javascript:DownloadPublicDocument('11795441','sDoc_11795441','531818');\">2019 05 03 pranešimas Nr (11.7) 2-2423.zip</a>, <a href=\"javascript:DownloadPublicDocument('11789481','sDoc_11789481','531818');\">2019 05 03 pranešimas Nr (11.7) 2-2429.zip</a>, <a href=\"javascript:DownloadPublicDocument('11795433','sDoc_11795433','531818');\">2019 05 03 pranešimas Nr. (11.7) 2-2422.zip</a>, <a href=\"javascript:DownloadPublicDocument('11864536','sDoc_11864536','531818');\">2019 05 22 tiekejams del pirkimo dokumentų.pdf</a>, <a href=\"javascript:DownloadPublicDocument('11742286','sDoc_11742286','531818');\">2019-04-18 pranešimas.zip</a>, <a href=\"javascript:DownloadPublicDocument('11741101','sDoc_11741101','531818');\">4.4_IV tomas DKZ_Kaisiadoriu raj 2019 04 09.docx</a>, <a href=\"javascript:DownloadPublicDocument('11361489','sDoc_11361489','531818');\">DZK 2018 12 28.zip</a>, <a href=\"javascript:DownloadPublicDocument('11757907','sDoc_11757907','531818');\">DZK I-V DALYS  2019 04 19.zip</a>, <a href=\"javascript:DownloadPublicDocument('11795162','sDoc_11795162','531818');\">DZK I-V dalys 2019 04 30.zip</a>, <a href=\"javascript:DownloadPublicDocument('11369502','sDoc_11369502','531818');\">I dalis . Tech. Proj..zip</a>, <a href=\"javascript:DownloadPublicDocument('11369403','sDoc_11369403','531818');\">I dalis. III tomas.zip</a>, <a href=\"javascript:DownloadPublicDocument('11396477','sDoc_11396477','531818');\">I tomas  viršelis.doc</a>, <a href=\"javascript:DownloadPublicDocument('11361318','sDoc_11361318','531818');\">I tomas 2018 12 28.docx</a>, <a href=\"javascript:DownloadPublicDocument('11369427','sDoc_11369427','531818');\">II DALIS. III TOMAS.zip</a>, <a href=\"javascript:DownloadPublicDocument('11369517','sDoc_11369517','531818');\">II dalis. Tech. Proj.zip</a>, <a href=\"javascript:DownloadPublicDocument('11396441','sDoc_11396441','531818');\">II TOMAS I II III IV V dalys. 2019 01 09.doc</a>, <a href=\"javascript:DownloadPublicDocument('11361319','sDoc_11361319','531818');\">II TOMAS I II III IV V dalys.doc</a>, <a href=\"javascript:DownloadPublicDocument('11361320','sDoc_11361320','531818');\">II tomas VI pirkimo daliai.docx</a>, <a href=\"javascript:DownloadPublicDocument('11369441','sDoc_11369441','531818');\">III DALIS III tomas.zip</a>, <a href=\"javascript:DownloadPublicDocument('11369541','sDoc_11369541','531818');\">III dalis. Tech. Proj.zip</a>, <a href=\"javascript:DownloadPublicDocument('11369609','sDoc_11369609','531818');\">III tomas. suvestine.docx</a>, <a href=\"javascript:DownloadPublicDocument('11369614','sDoc_11369614','531818');\">III tomas.TS Bendroji  (visu daliu).docx</a>, <a href=\"javascript:DownloadPublicDocument('11369451','sDoc_11369451','531818');\">IV dalis. III tomas.zip</a>, <a href=\"javascript:DownloadPublicDocument('11369571','sDoc_11369571','531818');\">IV dalis. Tech. Proj.zip</a>, <a href=\"javascript:DownloadPublicDocument('11369664','sDoc_11369664','531818');\">PIRKIMO DOK. I TOMO 4 priedas espd-request.zip</a>, <a href=\"javascript:DownloadPublicDocument('11369645','sDoc_11369645','531818');\">Pirkimo dokumentų I tomo 14 priedas.xlsx</a>, <a href=\"javascript:DownloadPublicDocument('11361322','sDoc_11361322','531818');\">sutartis I  II III IV V DALIS.docx</a>, <a href=\"javascript:DownloadPublicDocument('11472177','sDoc_11472177','531818');\">sutartis VI pirkimo daliai 2018 12 31.docx</a>, <a href=\"javascript:DownloadPublicDocument('11730323','sDoc_11730323','531818');\">tiekėjams dėl pretenzijos 2019 04 16.pdf</a>, <a href=\"javascript:DownloadPublicDocument('11369455','sDoc_11369455','531818');\">V dalis. III tomas. Susisiekimas.docx</a>, <a href=\"javascript:DownloadPublicDocument('11369582','sDoc_11369582','531818');\">V dalis. Tech. Proj.zip</a>, <a href=\"javascript:DownloadPublicDocument('11369494','sDoc_11369494','531818');\">VI dalis . Tech. Proj.zip</a>, <a href=\"javascript:DownloadPublicDocument('11369388','sDoc_11369388','531818');\">VI dalis. III tomas.zip</a>, <a class=\"btn button-action-bar\" href=\"javascript:window.close();\">Close window</a>]\n"
     ]
    }
   ],
   "source": [
    "import requests\n",
    "r=requests.get(\"https://pirkimai.eviesiejipirkimai.lt/app/rfq/publicpurchase_docs.asp?PID=437241\")\n",
    "from bs4 import BeautifulSoup \n",
    "soup = BeautifulSoup(r.content, 'html.parser')\n",
    "results=soup.find_all(\"var\", class_=\"details-view-action-box\") \n",
    "result=soup.find_all(\"a\", href=True)\n",
    "#for result in results:\n",
    "    #result=next_results.find_all(\"a\", href=True)\n",
    "   # if len(result) == 2:\n",
    "      #  elementas= result[1]\n",
    "    #elif len(result)==1:\n",
    "        #print(elementas)\n",
    "\n",
    "print(result)\n",
    "##print(\"\\n\")\n",
    "#for result in results:    \n",
    "    #if len(result) == 2:\n",
    "        # print(elementas)\n",
    "\n",
    "\n",
    "#print(result)\n",
    "#print(soup.find_all(\"a\", href=True))\n",
    "#print(soup.text)\n",
    "#print(\"\\n\")\n",
    "#print()\n",
    "#for result in next_results:\n",
    "    #result=next_results.find_all(\"a\", href=True)\n",
    "    #if len(result) == 2:\n",
    "    #    elementas= result[1]\n",
    "   # elif len(result)==1:\n",
    "   ##     print(elementas)\n",
    "#for resut_doc in results_documents:\n",
    "   # resut_doc=results_documents.find_all(\"script\", href=True)\n",
    "    # print(results_documents.find_all)"
   ]
  },
  {
   "cell_type": "code",
   "execution_count": null,
   "metadata": {},
   "outputs": [],
   "source": []
  },
  {
   "cell_type": "code",
   "execution_count": null,
   "metadata": {},
   "outputs": [],
   "source": []
  },
  {
   "cell_type": "code",
   "execution_count": null,
   "metadata": {},
   "outputs": [],
   "source": []
  },
  {
   "cell_type": "code",
   "execution_count": null,
   "metadata": {},
   "outputs": [],
   "source": []
  },
  {
   "cell_type": "code",
   "execution_count": null,
   "metadata": {},
   "outputs": [],
   "source": []
  },
  {
   "cell_type": "code",
   "execution_count": null,
   "metadata": {},
   "outputs": [],
   "source": []
  },
  {
   "cell_type": "code",
   "execution_count": null,
   "metadata": {},
   "outputs": [],
   "source": []
  },
  {
   "cell_type": "code",
   "execution_count": null,
   "metadata": {},
   "outputs": [],
   "source": []
  }
 ],
 "metadata": {
  "kernelspec": {
   "display_name": "Python 3",
   "language": "python",
   "name": "python3"
  },
  "language_info": {
   "codemirror_mode": {
    "name": "ipython",
    "version": 3
   },
   "file_extension": ".py",
   "mimetype": "text/x-python",
   "name": "python",
   "nbconvert_exporter": "python",
   "pygments_lexer": "ipython3",
   "version": "3.7.3"
  }
 },
 "nbformat": 4,
 "nbformat_minor": 2
}
