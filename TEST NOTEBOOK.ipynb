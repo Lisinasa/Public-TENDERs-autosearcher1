{
 "cells": [
  {
   "cell_type": "code",
   "execution_count": 33,
   "metadata": {},
   "outputs": [
    {
     "name": "stdout",
     "output_type": "stream",
     "text": [
      "<a href=\"/Notice/Details/2018-688888\">Šviesiųjų naftos produktų pirkimas iš degalinių, esančių prie magistralinių kelių Vilnius-Kaunas-Klaipėda ir Vilnius-Panevėžys</a>\n",
      "Šviesiųjų naftos produktų pirkimas iš degalinių, esančių prie magistralinių kelių Vilnius-Kaunas-Klaipėda ir Vilnius-Panevėžys\n",
      "/Notice/Details/2018-688888\n",
      "\n",
      "\n",
      "<a href=\"/Notice/Details/2019-673335\">Valstybinės reikšmės magistralinio kelio Nr. A1 Vilnius-Kaunas-Klaipėda ruožo nuo 100,47 iki 101,79 km rekonstravimas</a>\n",
      "Valstybinės reikšmės magistralinio kelio Nr. A1 Vilnius-Kaunas-Klaipėda ruožo nuo 100,47 iki 101,79 km rekonstravimas\n",
      "/Notice/Details/2019-673335\n",
      "\n",
      "\n",
      "<a href=\"/Notice/Details/2019-637670\">Skubus šviesiųjų naftos produktų iš degalinių Vilnius-Kaunas-Klaipėda kelio priežiūrai pirkimas</a>\n",
      "Skubus šviesiųjų naftos produktų iš degalinių Vilnius-Kaunas-Klaipėda kelio priežiūrai pirkimas\n",
      "/Notice/Details/2019-637670\n",
      "\n",
      "\n",
      "<a href=\"/Notice/Details/2018-661718\">Kelių priežiūros darbų techninės priežiūros paslaugos</a>\n",
      "Kelių priežiūros darbų techninės priežiūros paslaugos\n",
      "/Notice/Details/2018-661718\n",
      "\n",
      "\n",
      "<a href=\"/Notice/Details/2019-673580\">Benzinas, dyzelinas iš degalinių</a>\n",
      "Benzinas, dyzelinas iš degalinių\n",
      "/Notice/Details/2019-673580\n",
      "\n",
      "\n",
      "<a href=\"/Notice/Details/2019-607379\">Kelio A1 39,110 km sankryžos, kelio Nr. 221 nuo 0,000 iki 0,295 km, kelio Nr. 4728 nuo 0,000 iki 0,344 km ir skirt. lygių sankryžos jung. kelių rekon. Techn. d. projekto parengimas, proj. vykd. p</a>\n",
      "Kelio A1 39,110 km sankryžos, kelio Nr. 221 nuo 0,000 iki 0,295 km, kelio Nr. 4728 nuo 0,000 iki 0,344 km ir skirt. lygių sankryžos jung. kelių rekon. Techn. d. projekto parengimas, proj. vykd. p\n",
      "/Notice/Details/2019-607379\n",
      "\n",
      "\n",
      "<a href=\"/Notice/Details/2018-635915\">Transporto priemonių degalų, automobilių priežiūros priemonių ir plovimo paslaugų pirkimas UAB \"EPSO-G\" įmonių grupei</a>\n",
      "Transporto priemonių degalų, automobilių priežiūros priemonių ir plovimo paslaugų pirkimas UAB \"EPSO-G\" įmonių grupei\n",
      "/Notice/Details/2018-635915\n",
      "\n",
      "\n",
      "<a href=\"/Notice/Details/2019-680985\">Degalų pirkimas</a>\n",
      "Degalų pirkimas\n",
      "/Notice/Details/2019-680985\n",
      "\n",
      "\n"
     ]
    }
   ],
   "source": [
    "raktazodis=\"rekonstravimas\"\n",
    "import requests\n",
    "r=requests.get(\"https://cvpp.eviesiejipirkimai.lt/?Query=vilnius%E2%80%93kaunas%E2%80%93klaip%C4%97da&OrderingType=0&OrderingDirection=0&TypeContractId=&ProcedureSearchTypeId=&NoticeType=&PublicationType=&SectorSearchTypeId=&IncludeExpired=false&Cpvs=&TenderId=&DeadlineFromDate=&DeadlineToDate=&PublishedFromDate=2018-04-01&PublishedToDate=\")\n",
    "from bs4 import BeautifulSoup\n",
    "soup = BeautifulSoup(r.content, 'html.parser')\n",
    "results= soup.find_all(\"div\", class_='notice-search-item-header')\n",
    "for result in results:\n",
    "    result=result.find_all(\"a\", href=True)\n",
    "    if len(result) == 2:\n",
    "        elementas = result[1]\n",
    "    elif len(result)==1:\n",
    "        elementas = result[0]\n",
    "        print(elementas)\n",
    "        print(elementas.text)\n",
    "        print(elementas['href'])\n",
    "        print('\\n')\n",
    "for raktazodis in elementas['href']:\n",
    "    if raktazodis==0:\n",
    "        print(elementas['href'])\n",
    "    \n",
    "    \n",
    "#searchForm > div:nth-child(1) > div.span9 > div > div.notice-search-result > div:nth-child(3) > div.notice-search-item-header > a:nth-child(3)"
   ]
  },
  {
   "cell_type": "code",
   "execution_count": 27,
   "metadata": {},
   "outputs": [],
   "source": [
    "for raktazodis in elementas['href']:\n",
    "    if raktazodis==0:\n",
    "        print(elementas['href'])\n",
    "    "
   ]
  },
  {
   "cell_type": "code",
   "execution_count": null,
   "metadata": {},
   "outputs": [],
   "source": [
    " for raktazodis in elementas:\n",
    "        if raktazodis==0:\n",
    "            print(elementas.text)\n",
    "        elif raktazodis==1:\n",
    "            print()"
   ]
  },
  {
   "cell_type": "code",
   "execution_count": null,
   "metadata": {},
   "outputs": [],
   "source": [
    "    print(elementas)\n",
    "    print(elementas.text)\n",
    "    print(elementas['href'])\n",
    "    print('\\n')"
   ]
  },
  {
   "cell_type": "code",
   "execution_count": null,
   "metadata": {},
   "outputs": [],
   "source": []
  }
 ],
 "metadata": {
  "kernelspec": {
   "display_name": "Python 3",
   "language": "python",
   "name": "python3"
  }
 },
 "nbformat": 4,
 "nbformat_minor": 2
}
